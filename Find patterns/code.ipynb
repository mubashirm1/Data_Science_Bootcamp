{
 "cells": [
  {
   "cell_type": "code",
   "execution_count": 2,
   "metadata": {},
   "outputs": [],
   "source": [
    "# solution\n",
    "def numberOfSubsequences (S,W):\n",
    "    sl=list(S)\n",
    "    s = len(sl)\n",
    "    n = len(W)\n",
    "    r=0   #position of the repeating last element of subsequance inside recent enquiring sequance\n",
    "    p=0   #number of subsequance\n",
    "    while True:\n",
    "        #sure conditions\n",
    "        if n==0:\n",
    "            p+=1\n",
    "            n = len(W)\n",
    "            if r!=0:\n",
    "                s=r\n",
    "                r=0\n",
    "        if s==0:\n",
    "            break\n",
    "        # finding the subsequances\n",
    "        if sl[s-1]==W[n-1]:\n",
    "            sl.pop(s-1)\n",
    "            s-=1\n",
    "            n-=1\n",
    "            if r!=0:   #for consistancy of indexing \n",
    "                r-=1\n",
    "        else:\n",
    "            if sl[s-1] == W[-1] and r==0:\n",
    "                r=s\n",
    "            s-=1\n",
    "    return p"
   ]
  },
  {
   "cell_type": "code",
   "execution_count": 4,
   "metadata": {},
   "outputs": [
    {
     "data": {
      "text/plain": [
       "4"
      ]
     },
     "execution_count": 4,
     "metadata": {},
     "output_type": "execute_result"
    }
   ],
   "source": [
    "# example\n",
    "S = \"bcbcbdrtbbwerrccokokdokdd\" \n",
    "W = \"bcd\"\n",
    "numberOfSubsequences(S,W)"
   ]
  }
 ],
 "metadata": {
  "kernelspec": {
   "display_name": "Python 3",
   "language": "python",
   "name": "python3"
  },
  "language_info": {
   "codemirror_mode": {
    "name": "ipython",
    "version": 3
   },
   "file_extension": ".py",
   "mimetype": "text/x-python",
   "name": "python",
   "nbconvert_exporter": "python",
   "pygments_lexer": "ipython3",
   "version": "3.10.11"
  }
 },
 "nbformat": 4,
 "nbformat_minor": 2
}
